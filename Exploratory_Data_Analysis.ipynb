{
 "cells": [
  {
   "cell_type": "code",
   "execution_count": 1,
   "id": "d7f7151f",
   "metadata": {},
   "outputs": [],
   "source": [
    "import pandas as pd\n",
    "import sqlite3"
   ]
  },
  {
   "cell_type": "code",
   "execution_count": 2,
   "id": "412fab83",
   "metadata": {},
   "outputs": [],
   "source": [
    "# creating database connection\n",
    "conn = sqlite3.connect('wash.db')"
   ]
  },
  {
   "cell_type": "code",
   "execution_count": 3,
   "id": "9d6bf1c9",
   "metadata": {},
   "outputs": [
    {
     "data": {
      "application/vnd.microsoft.datawrangler.viewer.v0+json": {
       "columns": [
        {
         "name": "index",
         "rawType": "int64",
         "type": "integer"
        },
        {
         "name": "name",
         "rawType": "object",
         "type": "string"
        }
       ],
       "ref": "ec2799bd-8221-46f9-bb81-9fc3d8014e63",
       "rows": [
        [
         "0",
         "sdg_drinking_water_service_levels_by_region_year"
        ],
        [
         "1",
         "hygiene_service_levels_by_region_year"
        ],
        [
         "2",
         "sanitation_service_levels_by_region_year"
        ]
       ],
       "shape": {
        "columns": 1,
        "rows": 3
       }
      },
      "text/html": [
       "<div>\n",
       "<style scoped>\n",
       "    .dataframe tbody tr th:only-of-type {\n",
       "        vertical-align: middle;\n",
       "    }\n",
       "\n",
       "    .dataframe tbody tr th {\n",
       "        vertical-align: top;\n",
       "    }\n",
       "\n",
       "    .dataframe thead th {\n",
       "        text-align: right;\n",
       "    }\n",
       "</style>\n",
       "<table border=\"1\" class=\"dataframe\">\n",
       "  <thead>\n",
       "    <tr style=\"text-align: right;\">\n",
       "      <th></th>\n",
       "      <th>name</th>\n",
       "    </tr>\n",
       "  </thead>\n",
       "  <tbody>\n",
       "    <tr>\n",
       "      <th>0</th>\n",
       "      <td>sdg_drinking_water_service_levels_by_region_year</td>\n",
       "    </tr>\n",
       "    <tr>\n",
       "      <th>1</th>\n",
       "      <td>hygiene_service_levels_by_region_year</td>\n",
       "    </tr>\n",
       "    <tr>\n",
       "      <th>2</th>\n",
       "      <td>sanitation_service_levels_by_region_year</td>\n",
       "    </tr>\n",
       "  </tbody>\n",
       "</table>\n",
       "</div>"
      ],
      "text/plain": [
       "                                               name\n",
       "0  sdg_drinking_water_service_levels_by_region_year\n",
       "1             hygiene_service_levels_by_region_year\n",
       "2          sanitation_service_levels_by_region_year"
      ]
     },
     "execution_count": 3,
     "metadata": {},
     "output_type": "execute_result"
    }
   ],
   "source": [
    "# checking tables present in the database\n",
    "tables = pd.read_sql_query(\"SELECT name FROM sqlite_master WHERE type='table';\", conn)\n",
    "tables"
   ]
  },
  {
   "cell_type": "markdown",
   "id": "bb2b2ec1",
   "metadata": {},
   "source": [
    "Connecting to the wash.db SQLite database, retrieving the list of all tables present in the database, and then for each table:\n",
    "\n",
    "- Printing the table name and a separator line.\n",
    "- Printing the total number of records in the table.\n",
    "- Displaying the first 5 rows of data from the table.\n",
    "\n",
    "This helps us quickly explore and understand the structure and contents of each table in your database."
   ]
  },
  {
   "cell_type": "code",
   "execution_count": 4,
   "id": "7e342ec0",
   "metadata": {},
   "outputs": [
    {
     "name": "stdout",
     "output_type": "stream",
     "text": [
      "-------------------------------------------------- sdg_drinking_water_service_levels_by_region_year --------------------------------------------------\n",
      "Count of records: 2634\n"
     ]
    },
    {
     "data": {
      "application/vnd.microsoft.datawrangler.viewer.v0+json": {
       "columns": [
        {
         "name": "index",
         "rawType": "int64",
         "type": "integer"
        },
        {
         "name": "Type",
         "rawType": "object",
         "type": "string"
        },
        {
         "name": "Region",
         "rawType": "object",
         "type": "string"
        },
        {
         "name": "Residence Type",
         "rawType": "object",
         "type": "string"
        },
        {
         "name": "Service Type",
         "rawType": "object",
         "type": "string"
        },
        {
         "name": "Year",
         "rawType": "int64",
         "type": "integer"
        },
        {
         "name": "Coverage",
         "rawType": "float64",
         "type": "float"
        },
        {
         "name": "Population",
         "rawType": "float64",
         "type": "float"
        },
        {
         "name": "Service level",
         "rawType": "object",
         "type": "string"
        }
       ],
       "ref": "a8d8b3b0-c857-44e9-a85c-a46fd9d2fc7e",
       "rows": [
        [
         "0",
         "sdg",
         "Australia and New Zealand",
         "total",
         "Drinking water",
         "2000",
         "99.76079",
         "22818513.39597",
         "At least basic"
        ],
        [
         "1",
         "sdg",
         "Australia and New Zealand",
         "rural",
         "Drinking water",
         "2000",
         "99.2004",
         "3508826.58175",
         "At least basic"
        ],
        [
         "2",
         "sdg",
         "Australia and New Zealand",
         "total",
         "Drinking water",
         "2001",
         "99.75979",
         "23082141.82978",
         "At least basic"
        ],
        [
         "3",
         "sdg",
         "Australia and New Zealand",
         "rural",
         "Drinking water",
         "2001",
         "99.19829",
         "3572235.51418",
         "At least basic"
        ],
        [
         "4",
         "sdg",
         "Australia and New Zealand",
         "total",
         "Drinking water",
         "2002",
         "99.76071",
         "23368375.19934",
         "At least basic"
        ]
       ],
       "shape": {
        "columns": 8,
        "rows": 5
       }
      },
      "text/html": [
       "<div>\n",
       "<style scoped>\n",
       "    .dataframe tbody tr th:only-of-type {\n",
       "        vertical-align: middle;\n",
       "    }\n",
       "\n",
       "    .dataframe tbody tr th {\n",
       "        vertical-align: top;\n",
       "    }\n",
       "\n",
       "    .dataframe thead th {\n",
       "        text-align: right;\n",
       "    }\n",
       "</style>\n",
       "<table border=\"1\" class=\"dataframe\">\n",
       "  <thead>\n",
       "    <tr style=\"text-align: right;\">\n",
       "      <th></th>\n",
       "      <th>Type</th>\n",
       "      <th>Region</th>\n",
       "      <th>Residence Type</th>\n",
       "      <th>Service Type</th>\n",
       "      <th>Year</th>\n",
       "      <th>Coverage</th>\n",
       "      <th>Population</th>\n",
       "      <th>Service level</th>\n",
       "    </tr>\n",
       "  </thead>\n",
       "  <tbody>\n",
       "    <tr>\n",
       "      <th>0</th>\n",
       "      <td>sdg</td>\n",
       "      <td>Australia and New Zealand</td>\n",
       "      <td>total</td>\n",
       "      <td>Drinking water</td>\n",
       "      <td>2000</td>\n",
       "      <td>99.76079</td>\n",
       "      <td>2.281851e+07</td>\n",
       "      <td>At least basic</td>\n",
       "    </tr>\n",
       "    <tr>\n",
       "      <th>1</th>\n",
       "      <td>sdg</td>\n",
       "      <td>Australia and New Zealand</td>\n",
       "      <td>rural</td>\n",
       "      <td>Drinking water</td>\n",
       "      <td>2000</td>\n",
       "      <td>99.20040</td>\n",
       "      <td>3.508827e+06</td>\n",
       "      <td>At least basic</td>\n",
       "    </tr>\n",
       "    <tr>\n",
       "      <th>2</th>\n",
       "      <td>sdg</td>\n",
       "      <td>Australia and New Zealand</td>\n",
       "      <td>total</td>\n",
       "      <td>Drinking water</td>\n",
       "      <td>2001</td>\n",
       "      <td>99.75979</td>\n",
       "      <td>2.308214e+07</td>\n",
       "      <td>At least basic</td>\n",
       "    </tr>\n",
       "    <tr>\n",
       "      <th>3</th>\n",
       "      <td>sdg</td>\n",
       "      <td>Australia and New Zealand</td>\n",
       "      <td>rural</td>\n",
       "      <td>Drinking water</td>\n",
       "      <td>2001</td>\n",
       "      <td>99.19829</td>\n",
       "      <td>3.572236e+06</td>\n",
       "      <td>At least basic</td>\n",
       "    </tr>\n",
       "    <tr>\n",
       "      <th>4</th>\n",
       "      <td>sdg</td>\n",
       "      <td>Australia and New Zealand</td>\n",
       "      <td>total</td>\n",
       "      <td>Drinking water</td>\n",
       "      <td>2002</td>\n",
       "      <td>99.76071</td>\n",
       "      <td>2.336838e+07</td>\n",
       "      <td>At least basic</td>\n",
       "    </tr>\n",
       "  </tbody>\n",
       "</table>\n",
       "</div>"
      ],
      "text/plain": [
       "  Type                     Region Residence Type    Service Type  Year  \\\n",
       "0  sdg  Australia and New Zealand          total  Drinking water  2000   \n",
       "1  sdg  Australia and New Zealand          rural  Drinking water  2000   \n",
       "2  sdg  Australia and New Zealand          total  Drinking water  2001   \n",
       "3  sdg  Australia and New Zealand          rural  Drinking water  2001   \n",
       "4  sdg  Australia and New Zealand          total  Drinking water  2002   \n",
       "\n",
       "   Coverage    Population   Service level  \n",
       "0  99.76079  2.281851e+07  At least basic  \n",
       "1  99.20040  3.508827e+06  At least basic  \n",
       "2  99.75979  2.308214e+07  At least basic  \n",
       "3  99.19829  3.572236e+06  At least basic  \n",
       "4  99.76071  2.336838e+07  At least basic  "
      ]
     },
     "metadata": {},
     "output_type": "display_data"
    },
    {
     "name": "stdout",
     "output_type": "stream",
     "text": [
      "-------------------------------------------------- hygiene_service_levels_by_region_year --------------------------------------------------\n",
      "Count of records: 85\n"
     ]
    },
    {
     "data": {
      "application/vnd.microsoft.datawrangler.viewer.v0+json": {
       "columns": [
        {
         "name": "index",
         "rawType": "int64",
         "type": "integer"
        },
        {
         "name": "Unnamed: 0",
         "rawType": "int64",
         "type": "integer"
        },
        {
         "name": "Region",
         "rawType": "object",
         "type": "string"
        },
        {
         "name": "Year",
         "rawType": "int64",
         "type": "integer"
        },
        {
         "name": "Basic Hygiene",
         "rawType": "float64",
         "type": "float"
        },
        {
         "name": "Limited Hygiene",
         "rawType": "float64",
         "type": "float"
        },
        {
         "name": "No handwashing facility",
         "rawType": "float64",
         "type": "float"
        }
       ],
       "ref": "7197c238-27a3-4076-931f-124024858b85",
       "rows": [
        [
         "0",
         "0",
         "Central and Southern Asia",
         "2010",
         "178.89795",
         "107.61639",
         "13.48567"
        ],
        [
         "1",
         "1",
         "Central and Southern Asia",
         "2011",
         "180.64756",
         "106.15612",
         "13.19632"
        ],
        [
         "2",
         "2",
         "Central and Southern Asia",
         "2012",
         "182.54004",
         "104.81504",
         "12.64492"
        ],
        [
         "3",
         "3",
         "Central and Southern Asia",
         "2013",
         "184.46369",
         "103.26237",
         "12.27392"
        ],
        [
         "4",
         "4",
         "Central and Southern Asia",
         "2014",
         "186.36567",
         "101.92441",
         "11.70989"
        ]
       ],
       "shape": {
        "columns": 6,
        "rows": 5
       }
      },
      "text/html": [
       "<div>\n",
       "<style scoped>\n",
       "    .dataframe tbody tr th:only-of-type {\n",
       "        vertical-align: middle;\n",
       "    }\n",
       "\n",
       "    .dataframe tbody tr th {\n",
       "        vertical-align: top;\n",
       "    }\n",
       "\n",
       "    .dataframe thead th {\n",
       "        text-align: right;\n",
       "    }\n",
       "</style>\n",
       "<table border=\"1\" class=\"dataframe\">\n",
       "  <thead>\n",
       "    <tr style=\"text-align: right;\">\n",
       "      <th></th>\n",
       "      <th>Unnamed: 0</th>\n",
       "      <th>Region</th>\n",
       "      <th>Year</th>\n",
       "      <th>Basic Hygiene</th>\n",
       "      <th>Limited Hygiene</th>\n",
       "      <th>No handwashing facility</th>\n",
       "    </tr>\n",
       "  </thead>\n",
       "  <tbody>\n",
       "    <tr>\n",
       "      <th>0</th>\n",
       "      <td>0</td>\n",
       "      <td>Central and Southern Asia</td>\n",
       "      <td>2010</td>\n",
       "      <td>178.89795</td>\n",
       "      <td>107.61639</td>\n",
       "      <td>13.48567</td>\n",
       "    </tr>\n",
       "    <tr>\n",
       "      <th>1</th>\n",
       "      <td>1</td>\n",
       "      <td>Central and Southern Asia</td>\n",
       "      <td>2011</td>\n",
       "      <td>180.64756</td>\n",
       "      <td>106.15612</td>\n",
       "      <td>13.19632</td>\n",
       "    </tr>\n",
       "    <tr>\n",
       "      <th>2</th>\n",
       "      <td>2</td>\n",
       "      <td>Central and Southern Asia</td>\n",
       "      <td>2012</td>\n",
       "      <td>182.54004</td>\n",
       "      <td>104.81504</td>\n",
       "      <td>12.64492</td>\n",
       "    </tr>\n",
       "    <tr>\n",
       "      <th>3</th>\n",
       "      <td>3</td>\n",
       "      <td>Central and Southern Asia</td>\n",
       "      <td>2013</td>\n",
       "      <td>184.46369</td>\n",
       "      <td>103.26237</td>\n",
       "      <td>12.27392</td>\n",
       "    </tr>\n",
       "    <tr>\n",
       "      <th>4</th>\n",
       "      <td>4</td>\n",
       "      <td>Central and Southern Asia</td>\n",
       "      <td>2014</td>\n",
       "      <td>186.36567</td>\n",
       "      <td>101.92441</td>\n",
       "      <td>11.70989</td>\n",
       "    </tr>\n",
       "  </tbody>\n",
       "</table>\n",
       "</div>"
      ],
      "text/plain": [
       "   Unnamed: 0                     Region  Year  Basic Hygiene  \\\n",
       "0           0  Central and Southern Asia  2010      178.89795   \n",
       "1           1  Central and Southern Asia  2011      180.64756   \n",
       "2           2  Central and Southern Asia  2012      182.54004   \n",
       "3           3  Central and Southern Asia  2013      184.46369   \n",
       "4           4  Central and Southern Asia  2014      186.36567   \n",
       "\n",
       "   Limited Hygiene  No handwashing facility  \n",
       "0        107.61639                 13.48567  \n",
       "1        106.15612                 13.19632  \n",
       "2        104.81504                 12.64492  \n",
       "3        103.26237                 12.27392  \n",
       "4        101.92441                 11.70989  "
      ]
     },
     "metadata": {},
     "output_type": "display_data"
    },
    {
     "name": "stdout",
     "output_type": "stream",
     "text": [
      "-------------------------------------------------- sanitation_service_levels_by_region_year --------------------------------------------------\n",
      "Count of records: 184\n"
     ]
    },
    {
     "data": {
      "application/vnd.microsoft.datawrangler.viewer.v0+json": {
       "columns": [
        {
         "name": "index",
         "rawType": "int64",
         "type": "integer"
        },
        {
         "name": "Unnamed: 0",
         "rawType": "int64",
         "type": "integer"
        },
        {
         "name": "Region",
         "rawType": "object",
         "type": "string"
        },
        {
         "name": "Year",
         "rawType": "int64",
         "type": "integer"
        },
        {
         "name": "Basic Sanitation",
         "rawType": "float64",
         "type": "float"
        },
        {
         "name": "Limited Sanitation",
         "rawType": "float64",
         "type": "float"
        },
        {
         "name": "Open Defecation",
         "rawType": "float64",
         "type": "float"
        },
        {
         "name": "Safely Managed Sanitation",
         "rawType": "float64",
         "type": "float"
        },
        {
         "name": "Unimproved Sanitation",
         "rawType": "float64",
         "type": "float"
        }
       ],
       "ref": "d57a0557-b48f-4495-84b7-b820a9c6bdfa",
       "rows": [
        [
         "0",
         "0",
         "Australia and New Zealand",
         "2000",
         "6.42874",
         "0.0",
         "0.0",
         "93.56357",
         "0.00769"
        ],
        [
         "1",
         "1",
         "Australia and New Zealand",
         "2001",
         "6.32666",
         "0.0",
         "0.0",
         "93.66607",
         "0.00728"
        ],
        [
         "2",
         "2",
         "Australia and New Zealand",
         "2002",
         "6.22457",
         "0.0",
         "0.0",
         "93.76857",
         "0.00686"
        ],
        [
         "3",
         "3",
         "Australia and New Zealand",
         "2003",
         "6.12248",
         "0.0",
         "0.0",
         "93.87108",
         "0.00644"
        ],
        [
         "4",
         "4",
         "Australia and New Zealand",
         "2004",
         "6.0204",
         "0.0",
         "0.0",
         "93.97358",
         "0.00602"
        ]
       ],
       "shape": {
        "columns": 8,
        "rows": 5
       }
      },
      "text/html": [
       "<div>\n",
       "<style scoped>\n",
       "    .dataframe tbody tr th:only-of-type {\n",
       "        vertical-align: middle;\n",
       "    }\n",
       "\n",
       "    .dataframe tbody tr th {\n",
       "        vertical-align: top;\n",
       "    }\n",
       "\n",
       "    .dataframe thead th {\n",
       "        text-align: right;\n",
       "    }\n",
       "</style>\n",
       "<table border=\"1\" class=\"dataframe\">\n",
       "  <thead>\n",
       "    <tr style=\"text-align: right;\">\n",
       "      <th></th>\n",
       "      <th>Unnamed: 0</th>\n",
       "      <th>Region</th>\n",
       "      <th>Year</th>\n",
       "      <th>Basic Sanitation</th>\n",
       "      <th>Limited Sanitation</th>\n",
       "      <th>Open Defecation</th>\n",
       "      <th>Safely Managed Sanitation</th>\n",
       "      <th>Unimproved Sanitation</th>\n",
       "    </tr>\n",
       "  </thead>\n",
       "  <tbody>\n",
       "    <tr>\n",
       "      <th>0</th>\n",
       "      <td>0</td>\n",
       "      <td>Australia and New Zealand</td>\n",
       "      <td>2000</td>\n",
       "      <td>6.42874</td>\n",
       "      <td>0.0</td>\n",
       "      <td>0.0</td>\n",
       "      <td>93.56357</td>\n",
       "      <td>0.00769</td>\n",
       "    </tr>\n",
       "    <tr>\n",
       "      <th>1</th>\n",
       "      <td>1</td>\n",
       "      <td>Australia and New Zealand</td>\n",
       "      <td>2001</td>\n",
       "      <td>6.32666</td>\n",
       "      <td>0.0</td>\n",
       "      <td>0.0</td>\n",
       "      <td>93.66607</td>\n",
       "      <td>0.00728</td>\n",
       "    </tr>\n",
       "    <tr>\n",
       "      <th>2</th>\n",
       "      <td>2</td>\n",
       "      <td>Australia and New Zealand</td>\n",
       "      <td>2002</td>\n",
       "      <td>6.22457</td>\n",
       "      <td>0.0</td>\n",
       "      <td>0.0</td>\n",
       "      <td>93.76857</td>\n",
       "      <td>0.00686</td>\n",
       "    </tr>\n",
       "    <tr>\n",
       "      <th>3</th>\n",
       "      <td>3</td>\n",
       "      <td>Australia and New Zealand</td>\n",
       "      <td>2003</td>\n",
       "      <td>6.12248</td>\n",
       "      <td>0.0</td>\n",
       "      <td>0.0</td>\n",
       "      <td>93.87108</td>\n",
       "      <td>0.00644</td>\n",
       "    </tr>\n",
       "    <tr>\n",
       "      <th>4</th>\n",
       "      <td>4</td>\n",
       "      <td>Australia and New Zealand</td>\n",
       "      <td>2004</td>\n",
       "      <td>6.02040</td>\n",
       "      <td>0.0</td>\n",
       "      <td>0.0</td>\n",
       "      <td>93.97358</td>\n",
       "      <td>0.00602</td>\n",
       "    </tr>\n",
       "  </tbody>\n",
       "</table>\n",
       "</div>"
      ],
      "text/plain": [
       "   Unnamed: 0                     Region  Year  Basic Sanitation  \\\n",
       "0           0  Australia and New Zealand  2000           6.42874   \n",
       "1           1  Australia and New Zealand  2001           6.32666   \n",
       "2           2  Australia and New Zealand  2002           6.22457   \n",
       "3           3  Australia and New Zealand  2003           6.12248   \n",
       "4           4  Australia and New Zealand  2004           6.02040   \n",
       "\n",
       "   Limited Sanitation  Open Defecation  Safely Managed Sanitation  \\\n",
       "0                 0.0              0.0                   93.56357   \n",
       "1                 0.0              0.0                   93.66607   \n",
       "2                 0.0              0.0                   93.76857   \n",
       "3                 0.0              0.0                   93.87108   \n",
       "4                 0.0              0.0                   93.97358   \n",
       "\n",
       "   Unimproved Sanitation  \n",
       "0                0.00769  \n",
       "1                0.00728  \n",
       "2                0.00686  \n",
       "3                0.00644  \n",
       "4                0.00602  "
      ]
     },
     "metadata": {},
     "output_type": "display_data"
    }
   ],
   "source": [
    "for table in tables['name']:\n",
    "    print('-'*50, f'{table}','-'*50)\n",
    "    print('Count of records:', pd.read_sql(f\"SELECT count(*) as count from {table}\", conn)['count'].values[0])\n",
    "    display(pd.read_sql(f\"SELECT * from {table} LIMIT 5\", conn))"
   ]
  },
  {
   "cell_type": "code",
   "execution_count": null,
   "id": "d6f07135",
   "metadata": {},
   "outputs": [],
   "source": []
  }
 ],
 "metadata": {
  "kernelspec": {
   "display_name": ".venv",
   "language": "python",
   "name": "python3"
  },
  "language_info": {
   "codemirror_mode": {
    "name": "ipython",
    "version": 3
   },
   "file_extension": ".py",
   "mimetype": "text/x-python",
   "name": "python",
   "nbconvert_exporter": "python",
   "pygments_lexer": "ipython3",
   "version": "3.11.2"
  }
 },
 "nbformat": 4,
 "nbformat_minor": 5
}
